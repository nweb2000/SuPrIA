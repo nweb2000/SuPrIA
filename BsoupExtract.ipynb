{
 "cells": [
  {
   "cell_type": "code",
   "execution_count": 99,
   "metadata": {},
   "outputs": [],
   "source": [
    "from bs4 import BeautifulSoup\n",
    "import feedparser\n",
    "import feedparse\n",
    "from importlib import reload\n",
    "reload(feedparse)\n",
    "import urllib\n"
   ]
  },
  {
   "cell_type": "code",
   "execution_count": 96,
   "metadata": {},
   "outputs": [
    {
     "name": "stderr",
     "output_type": "stream",
     "text": [
      "/usr/lib/python3.6/site-packages/bs4/__init__.py:181: UserWarning: No parser was explicitly specified, so I'm using the best available HTML parser for this system (\"html5lib\"). This usually isn't a problem, but if you run this code on another system, or in a different virtual environment, it may use a different parser and behave differently.\n",
      "\n",
      "The code that caused this warning is on line 193 of the file /usr/lib/python3.6/runpy.py. To get rid of this warning, change code that looks like this:\n",
      "\n",
      " BeautifulSoup(YOUR_MARKUP})\n",
      "\n",
      "to this:\n",
      "\n",
      " BeautifulSoup(YOUR_MARKUP, \"html5lib\")\n",
      "\n",
      "  markup_type=markup_type))\n"
     ]
    },
    {
     "data": {
      "text/plain": [
       "\"New York TimesDays Before Firing, Comey Asked for More Resources for Russia InquiryNew York TimesThe seal of the Federal Bureau of Investigation on the bureau's J. Edgar Hoover Building in Washington. Credit Chip Somodevilla/Getty Images. WASHINGTON — Days before he was fired, James B. Comey, the former F.B.I. director, asked the Justice\\xa0...White House: Trump thought about firing Comey since Election DayCNNGOP agenda threatened by Comey falloutPoliticoThese Republicans could set the Comey disaster rightWashington PostLos Angeles Times\\xa0-The Hill (blog)\\xa0-NBCNews.com\\xa0-Bloombergall 5,320 news articles\\xa0»\""
      ]
     },
     "execution_count": 96,
     "metadata": {},
     "output_type": "execute_result"
    }
   ],
   "source": [
    "d = feedparser.parse(\"https://news.google.com/?output=rss&num=100\")\n",
    "d.entries[1].link\n",
    "d.entries[0].title\n",
    "a = d.entries[0].description\n",
    "soup = BeautifulSoup(a)\n",
    "# = soup.find_all(\"font\")\n",
    "soup.text\n"
   ]
  },
  {
   "cell_type": "code",
   "execution_count": 8,
   "metadata": {
    "collapsed": true
   },
   "outputs": [],
   "source": [
    "items = soup.find_all(\"item\")"
   ]
  },
  {
   "cell_type": "code",
   "execution_count": 102,
   "metadata": {},
   "outputs": [
    {
     "name": "stdout",
     "output_type": "stream",
     "text": [
      "http://news.google.com/news/url?sa=t&fd=R&ct2=us&usg=AFQjCNESuM35RLLjLnE14wSfXz5olnHpDQ&clid=c3a7d30bb8a4878e06b80cf16b898331&cid=52779487345800&ei=9KUTWdPWEpKZ3wHLmbCoBw&url=http://www.cnn.com/2017/05/10/politics/donald-trump-james-comey-whats-next/ | White House: Trump thought about firing Comey since Election Day - CNN | CNNWhite House: Trump thought about firing Comey since Election DayCNNWashington (CNN) President Donald Trump had been thinking about firing FBI Director James Comey since Election Day, White House deputy press secretary Sarah Huckabee Sanders said Wednesday. \"The President has lost confidence in Director Comey ...White House Says Trump Had Weighed Firing Comey Since JanuaryNew York TimesComey firing roils Washington, prompts calls for independent investigation and divides RepublicansWashington PostWhite House's explanation for Comey's firing remains murkyPoliticoBloomberg -New York Daily News -NBCNews.com -USA TODAYall 4,667 news articles »\n"
     ]
    },
    {
     "name": "stderr",
     "output_type": "stream",
     "text": [
      "/usr/lib/python3.6/site-packages/bs4/__init__.py:181: UserWarning: No parser was explicitly specified, so I'm using the best available HTML parser for this system (\"html5lib\"). This usually isn't a problem, but if you run this code on another system, or in a different virtual environment, it may use a different parser and behave differently.\n",
      "\n",
      "The code that caused this warning is on line 193 of the file /usr/lib/python3.6/runpy.py. To get rid of this warning, change code that looks like this:\n",
      "\n",
      " BeautifulSoup(YOUR_MARKUP})\n",
      "\n",
      "to this:\n",
      "\n",
      " BeautifulSoup(YOUR_MARKUP, \"html5lib\")\n",
      "\n",
      "  markup_type=markup_type))\n"
     ]
    }
   ],
   "source": [
    "a = feedparse.getRssFeed(\"https://news.google.com/?output=rss&num=100\")\n",
    "print(a[0])\n"
   ]
  },
  {
   "cell_type": "code",
   "execution_count": null,
   "metadata": {
    "collapsed": true
   },
   "outputs": [],
   "source": []
  }
 ],
 "metadata": {
  "kernelspec": {
   "display_name": "Python 3",
   "language": "python",
   "name": "python3"
  },
  "language_info": {
   "codemirror_mode": {
    "name": "ipython",
    "version": 3
   },
   "file_extension": ".py",
   "mimetype": "text/x-python",
   "name": "python",
   "nbconvert_exporter": "python",
   "pygments_lexer": "ipython3",
   "version": "3.6.1"
  }
 },
 "nbformat": 4,
 "nbformat_minor": 2
}
